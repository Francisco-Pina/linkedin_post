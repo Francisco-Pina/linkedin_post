{
 "cells": [
  {
   "cell_type": "code",
   "execution_count": 1,
   "metadata": {},
   "outputs": [],
   "source": [
    "import os\n",
    "import time\n",
    "import clipboard\n",
    "from selenium import webdriver\n",
    "from selenium.webdriver.common.keys import Keys\n",
    "from selenium.webdriver.support.ui import WebDriverWait\n",
    "from selenium.webdriver.common.keys import Keys\n",
    "from selenium.webdriver.remote.file_detector import UselessFileDetector\n",
    "from selenium.webdriver import ActionChains\n",
    "from selenium.webdriver.chrome.options import Options"
   ]
  },
  {
   "cell_type": "code",
   "execution_count": 2,
   "metadata": {},
   "outputs": [],
   "source": [
    "# private information, not to disclose in the jupyter file\n",
    "\n",
    "myfile = open(\"login_file_linkedin.txt\", \"rt\") # open lorem.txt for reading text\n",
    "contents = myfile.read()         # read the entire file to string\n",
    "myfile.close()                   # close the file\n",
    "\n",
    "# split file\n",
    "contents = contents.split()\n",
    "\n",
    "# assign username, password and path for safety\n",
    "username        = contents[0]\n",
    "password        = contents[1]\n",
    "my_path         = contents[2]\n",
    "my_path         = my_path.replace('\\\\\\\\', '\\\\')\n",
    "\n",
    "jupyter_nb_path = contents[3]\n",
    "\n",
    "                                          "
   ]
  },
  {
   "cell_type": "code",
   "execution_count": 3,
   "metadata": {},
   "outputs": [
    {
     "name": "stderr",
     "output_type": "stream",
     "text": [
      "C:\\Users\\User\\anaconda3\\lib\\site-packages\\ipykernel_launcher.py:4: DeprecationWarning: use options instead of chrome_options\n",
      "  after removing the cwd from sys.path.\n"
     ]
    }
   ],
   "source": [
    "options = Options()\n",
    "options.add_argument(\"start-maximized\")\n",
    "\n",
    "driver = webdriver.Chrome(chrome_options=options, executable_path=my_path)\n",
    "driver.get(\"http://www.linkedin.com\")#put here the adress of your page\n",
    "\n",
    "delay = 3 # seconds\n",
    "\n",
    "time.sleep(2)\n",
    "\n",
    "#Login\n",
    "driver.find_element_by_id('session_key').send_keys(username)\n",
    "time.sleep(2)\n",
    "driver.find_element_by_id('session_password').send_keys(password)\n",
    "time.sleep(2)\n",
    "\n",
    "#Sign in Button\n",
    "driver.find_element_by_xpath(\"/html/body/main/section[1]/div[2]/form/button\").click()\n",
    "time.sleep(5)\n",
    "\n",
    "#Skip security question\n",
    "#driver.find_element_by_xpath('/html/body/div/div[1]/section/div[2]/div/article/footer/div/div/button').click()\n",
    "#time.sleep(5)\n",
    "\n",
    "#Click upload button\n",
    "driver.find_element_by_xpath('/html/body/div[7]/div[3]/div/div/div/div/main/div[1]/div/div[1]/button').click()\n",
    "time.sleep(3)\n",
    "\n",
    "\"\"\"my_post = ''\n",
    "clipboard.copy(\"please work\")\"\"\"\n",
    "\n",
    "#Start writing\n",
    "driver.find_element_by_xpath('/html/body/div[4]/div/div/div[2]/div/div[1]/div[1]/div[2]/div/div/div').click()\n",
    "time.sleep(1)\n",
    "\n",
    "text_area = driver.find_element_by_xpath('/html/body/div[4]/div/div/div[2]/div/div[1]/div[1]/div[2]/div/div/div/div/div/div[1]/p')\n",
    "\n",
    "# post text\n",
    "text_area.send_keys(\"\"\"I wrote a code that automatically posts on Linkedin\n",
    "\n",
    "This is it's first post!\n",
    "\n",
    "The real challenge was on uploading a document, so here it is:\n",
    "\n",
    "#python #automation\"\"\") \n",
    "time.sleep(2)\n",
    "\n",
    "# upload icon\n",
    "driver.find_element_by_xpath('/html/body/div[4]/div/div/div[2]/div/div[2]/div[1]/button[3]').click()\n",
    "time.sleep(7)\n",
    "\n",
    "\n",
    "#addFile = driver.find_element_by_id('ember428-upload-element')\n",
    "icon = driver.find_element_by_xpath(\"/html/body/div[4]/div/div/div[2]/div/div/div[1]/div[2]/div/div/input\")\n",
    "\n",
    "driver.execute_script(\"arguments[0].setAttribute('class','')\", icon)\n",
    "time.sleep(2)\n",
    "\n",
    "# document to upload\n",
    "icon.send_keys(jupyter_nb_path)\n",
    "time.sleep(2)\n",
    "\n",
    "# title of document \n",
    "driver.find_element_by_xpath('/html/body/div[4]/div/div/div[2]/div/div/div[1]/div[1]/div[1]/input').send_keys('Linkedin post with Python')\n",
    "time.sleep(3)\n",
    "\n",
    "# ready to post\n",
    "driver.find_element_by_xpath('/html/body/div[4]/div/div/div[2]/div/div/div[2]/div/button[2]').click()\n",
    "time.sleep(3)\n",
    "\n",
    "# Post!!!!!!!!!!!!!!!!!!!\n",
    "driver.find_element_by_xpath('/html/body/div[4]/div/div/div[2]/div/div[2]/div[3]/button').click()\n",
    "time.sleep(3)\n"
   ]
  }
 ],
 "metadata": {
  "kernelspec": {
   "display_name": "Python 3",
   "language": "python",
   "name": "python3"
  },
  "language_info": {
   "codemirror_mode": {
    "name": "ipython",
    "version": 3
   },
   "file_extension": ".py",
   "mimetype": "text/x-python",
   "name": "python",
   "nbconvert_exporter": "python",
   "pygments_lexer": "ipython3",
   "version": "3.7.6"
  },
  "toc": {
   "base_numbering": 1,
   "nav_menu": {},
   "number_sections": true,
   "sideBar": true,
   "skip_h1_title": false,
   "title_cell": "Table of Contents",
   "title_sidebar": "Contents",
   "toc_cell": false,
   "toc_position": {},
   "toc_section_display": true,
   "toc_window_display": false
  },
  "varInspector": {
   "cols": {
    "lenName": 16,
    "lenType": 16,
    "lenVar": 40
   },
   "kernels_config": {
    "python": {
     "delete_cmd_postfix": "",
     "delete_cmd_prefix": "del ",
     "library": "var_list.py",
     "varRefreshCmd": "print(var_dic_list())"
    },
    "r": {
     "delete_cmd_postfix": ") ",
     "delete_cmd_prefix": "rm(",
     "library": "var_list.r",
     "varRefreshCmd": "cat(var_dic_list()) "
    }
   },
   "types_to_exclude": [
    "module",
    "function",
    "builtin_function_or_method",
    "instance",
    "_Feature"
   ],
   "window_display": false
  }
 },
 "nbformat": 4,
 "nbformat_minor": 4
}
